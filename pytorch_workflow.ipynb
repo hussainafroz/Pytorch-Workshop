{
 "cells": [
  {
   "cell_type": "code",
   "execution_count": 1,
   "id": "8446fef9",
   "metadata": {},
   "outputs": [
    {
     "name": "stdout",
     "output_type": "stream",
     "text": [
      "{1: 'data', 2: 'build model', 3: 'filtting the model to data', 4: 'making predictions and evalution model', 5: 'imporve through experiments', 6: 'saving and loading a model'}\n"
     ]
    }
   ],
   "source": [
    "what_were_covering = {1:\"data\",\n",
    "                      2:\"build model\",\n",
    "                      3:\"filtting the model to data\",\n",
    "                      4:\"making predictions and evalution model\",\n",
    "                      5:\"imporve through experiments\",\n",
    "                      6:\"saving and loading a model\"}\n",
    "print(what_were_covering)"
   ]
  },
  {
   "cell_type": "code",
   "execution_count": 2,
   "id": "9db3793d",
   "metadata": {},
   "outputs": [],
   "source": [
    "import torch\n",
    "from torch import nn #nn contains all of PyTorchs building blocks for  neural networks\n",
    "import matplotlib.pyplot as plt"
   ]
  },
  {
   "cell_type": "code",
   "execution_count": 3,
   "id": "f719a629",
   "metadata": {},
   "outputs": [
    {
     "data": {
      "text/plain": [
       "'1.12.1'"
      ]
     },
     "execution_count": 3,
     "metadata": {},
     "output_type": "execute_result"
    }
   ],
   "source": [
    "#check pytorch version \n",
    "torch.__version__"
   ]
  },
  {
   "attachments": {},
   "cell_type": "markdown",
   "id": "e979e4e6",
   "metadata": {},
   "source": [
    "## 1) Data"
   ]
  },
  {
   "cell_type": "code",
   "execution_count": 4,
   "id": "e931c068",
   "metadata": {},
   "outputs": [
    {
     "data": {
      "text/plain": [
       "(50, 50)"
      ]
     },
     "execution_count": 4,
     "metadata": {},
     "output_type": "execute_result"
    }
   ],
   "source": [
    "#create hyperparameters\n",
    "weight = 0.7\n",
    "bias = 0.4\n",
    "\n",
    "# input data\n",
    "start = 0\n",
    "end = 1\n",
    "step = 0.02\n",
    "x = torch.arange(start,end,step).unsqueeze(dim=1)\n",
    "y = weight*x + bias\n",
    "\n",
    "x[:10],y[:10]\n",
    "\n",
    "\n",
    "len(x),len(y)"
   ]
  },
  {
   "attachments": {},
   "cell_type": "markdown",
   "id": "e1db08d6",
   "metadata": {},
   "source": [
    "###### spliting data into training and testing sets\n",
    "\n",
    "lets create a training and test set with our data"
   ]
  },
  {
   "cell_type": "code",
   "execution_count": 5,
   "id": "103a1b61",
   "metadata": {},
   "outputs": [
    {
     "data": {
      "text/plain": [
       "(40, 40, 10, 10)"
      ]
     },
     "execution_count": 5,
     "metadata": {},
     "output_type": "execute_result"
    }
   ],
   "source": [
    "train_split = int(0.8 * len(x))\n",
    "x_train , y_train = x[:train_split], y[:train_split] #80 per x,y as training\n",
    "x_test , y_test = x[train_split:],y[train_split:] #20 per x,y as testing \n",
    "\n",
    "len(x_train) , len(y_train) , len(x_test) , len(y_test)"
   ]
  },
  {
   "attachments": {},
   "cell_type": "markdown",
   "id": "a4310ce1",
   "metadata": {},
   "source": [
    "visualization of our data"
   ]
  },
  {
   "cell_type": "code",
   "execution_count": 6,
   "id": "9a7fbfd2",
   "metadata": {},
   "outputs": [],
   "source": [
    "def plot_predictions(train_data=x_train,\n",
    "                     train_labels=y_train,\n",
    "                     test_data = x_test,\n",
    "                     test_labels=y_test,\n",
    "                     predictions=None):\n",
    "    \"\"\"\n",
    "    Plots training data,test data and compares predictions\n",
    "    \"\"\"\n",
    "    plt.figure(figsize=(10,7))\n",
    "    \n",
    "    \n",
    "    # plot training data in blue \n",
    "    plt.scatter(train_data,train_labels,c='b',s=4,label=\"Training data\")\n",
    "    \n",
    "    #plot test data in green\n",
    "    plt.scatter(test_data,test_labels,c=\"y\",s=4,label=\"Testing data\")\n",
    "    \n",
    "    #are there predictions?\n",
    "    if predictions is not None:\n",
    "        #ploy the predictions if they exits\n",
    "        plt.scatter(test_data,predictions,c=\"r\",s=4,label=\"predictions\")\n",
    "    \n",
    "    #show the legend\n",
    "    plt.legend(prop={\"size\":14})"
   ]
  },
  {
   "cell_type": "code",
   "execution_count": 7,
   "id": "1088cdca",
   "metadata": {
    "scrolled": true
   },
   "outputs": [
    {
     "data": {
      "image/png": "[encoded data removed]",
      "text/plain": [
       "<Figure size 1000x700 with 1 Axes>"
      ]
     },
     "metadata": {},
     "output_type": "display_data"
    }
   ],
   "source": [
    "plot_predictions()"
   ]
  },
  {
   "attachments": {},
   "cell_type": "markdown",
   "id": "f735bbd7",
   "metadata": {},
   "source": [
    "## 2) Build Model"
   ]
  },
  {
   "cell_type": "code",
   "execution_count": 8,
   "id": "54175158",
   "metadata": {},
   "outputs": [],
   "source": [
    "from torch import nn\n",
    "#linear regression model class \n",
    "class LinearRegressionModel(nn.Module): #<- almost everythig in pytorch inherites from nn.model\n",
    "    def __init__(self):\n",
    "        super().__init__()\n",
    "        self.weights = nn.Parameter(torch.randn(1,\n",
    "                                              requires_grad=True,\n",
    "                                              dtype=torch.float))\n",
    "        self.bias = nn.Parameter(torch.randn(1,\n",
    "                                            requires_grad=True,\n",
    "                                              dtype=torch.float))\n",
    "        \n",
    "        #forward method to define the computation in the model\n",
    "        \n",
    "    def forward(self,x:torch.Tensor) -> torch.Tensor:\n",
    "        return self.weights*x + self.bias\n",
    "        \n",
    "        "
   ]
  },
  {
   "attachments": {},
   "cell_type": "markdown",
   "id": "12a3e81b",
   "metadata": {},
   "source": [
    "#### Pytorch model building essentials"
   ]
  },
  {
   "attachments": {},
   "cell_type": "markdown",
   "id": "43c16265",
   "metadata": {},
   "source": [
    "torch.nn -> contains all of the buildings for neural network\n",
    "\n",
    "torch.nn.parameter > what parameters should our model try and learn \n",
    "\n",
    "torch.nn.Module -> the base class for all neural network models\n",
    "\n",
    "torch.optim -> this where the optimizers in pytorch live , they will help wtih gradient descent\n",
    "\n",
    "\n",
    "def forward() ->All nn.module subclassess require you to overwrite forward(). this method defines the computation in the model"
   ]
  },
  {
   "attachments": {},
   "cell_type": "markdown",
   "id": "cfe67c2e",
   "metadata": {},
   "source": [
    "#### checking the contents of our pytorch model\n",
    "\n",
    ".parameters() \n",
    "\n",
    ".state_dict()\n"
   ]
  },
  {
   "cell_type": "code",
   "execution_count": 9,
   "id": "b0a01110",
   "metadata": {},
   "outputs": [
    {
     "data": {
      "text/plain": [
       "[Parameter containing:\n",
       " tensor([0.3367], requires_grad=True),\n",
       " Parameter containing:\n",
       " tensor([0.1288], requires_grad=True)]"
      ]
     },
     "execution_count": 9,
     "metadata": {},
     "output_type": "execute_result"
    }
   ],
   "source": [
    "#create a random seed \n",
    "torch.manual_seed(42)\n",
    "\n",
    "#create an object of the model (this is subclass of nn.module)\n",
    "model_0 = LinearRegressionModel()\n",
    "\n",
    "list(model_0.parameters())"
   ]
  },
  {
   "cell_type": "code",
   "execution_count": 10,
   "id": "5e60853e",
   "metadata": {},
   "outputs": [
    {
     "data": {
      "text/plain": [
       "OrderedDict([('weights', tensor([0.3367])), ('bias', tensor([0.1288]))])"
      ]
     },
     "execution_count": 10,
     "metadata": {},
     "output_type": "execute_result"
    }
   ],
   "source": [
    "model_0.state_dict()"
   ]
  },
  {
   "attachments": {},
   "cell_type": "markdown",
   "id": "44af8c30",
   "metadata": {},
   "source": [
    "#### making prediction \n",
    "\n",
    "torch.inference_model()"
   ]
  },
  {
   "cell_type": "code",
   "execution_count": 11,
   "id": "660d1c33",
   "metadata": {},
   "outputs": [
    {
     "data": {
      "text/plain": [
       "(tensor([[0.8000],\n",
       "         [0.8200],\n",
       "         [0.8400],\n",
       "         [0.8600],\n",
       "         [0.8800],\n",
       "         [0.9000],\n",
       "         [0.9200],\n",
       "         [0.9400],\n",
       "         [0.9600],\n",
       "         [0.9800]]),\n",
       " tensor([[0.9600],\n",
       "         [0.9740],\n",
       "         [0.9880],\n",
       "         [1.0020],\n",
       "         [1.0160],\n",
       "         [1.0300],\n",
       "         [1.0440],\n",
       "         [1.0580],\n",
       "         [1.0720],\n",
       "         [1.0860]]))"
      ]
     },
     "execution_count": 11,
     "metadata": {},
     "output_type": "execute_result"
    }
   ],
   "source": [
    "x_test,y_test"
   ]
  },
  {
   "cell_type": "code",
   "execution_count": 19,
   "id": "f6123d6d",
   "metadata": {},
   "outputs": [],
   "source": [
    "# https:/pytorch.org/docs/stable/generated/torch.inference_mode.html"
   ]
  },
  {
   "cell_type": "code",
   "execution_count": 12,
   "id": "30db1797",
   "metadata": {},
   "outputs": [
    {
     "data": {
      "text/plain": [
       "tensor([[0.3982],\n",
       "        [0.4049],\n",
       "        [0.4116],\n",
       "        [0.4184],\n",
       "        [0.4251],\n",
       "        [0.4318],\n",
       "        [0.4386],\n",
       "        [0.4453],\n",
       "        [0.4520],\n",
       "        [0.4588]])"
      ]
     },
     "execution_count": 12,
     "metadata": {},
     "output_type": "execute_result"
    }
   ],
   "source": [
    "with torch.inference_mode():\n",
    "    y_preds = model_0(x_test)\n",
    "y_preds"
   ]
  },
  {
   "cell_type": "code",
   "execution_count": 20,
   "id": "b013960f",
   "metadata": {},
   "outputs": [
    {
     "data": {
      "image/png": "[encoded data removed]",
      "text/plain": [
       "<Figure size 1000x700 with 1 Axes>"
      ]
     },
     "metadata": {},
     "output_type": "display_data"
    }
   ],
   "source": [
    "plot_predictions(predictions=y_preds)"
   ]
  },
  {
   "attachments": {},
   "cell_type": "markdown",
   "id": "b8ef776d",
   "metadata": {},
   "source": [
    "## 3) Train Model"
   ]
  },
  {
   "attachments": {},
   "cell_type": "markdown",
   "id": "b80ddb5c",
   "metadata": {},
   "source": [
    "Things we need to train :- \n",
    "1) Loss functions :- Measure how wrong ur model predicts the ideal output , loss function is more minimum more better\n",
    "\n",
    "https://pytorch.org/docs/stable/nn.html#loss-functions\n",
    "\n",
    "2) Optimizer :- take into account the loss of a model and adjusts the models parameters to improved the loss function\n",
    "\n",
    "https://pytorch.org/docs/stable/optim.html\n",
    "\n",
    "Specifically for pytorch we need:-\n",
    "1) A training loop\n",
    "\n",
    "2) A testing loop"
   ]
  },
  {
   "cell_type": "code",
   "execution_count": 14,
   "id": "92fc2021",
   "metadata": {},
   "outputs": [],
   "source": [
    "#Setup Loss Function\n",
    "loss_fn = nn.L1Loss()\n",
    "\n",
    "#Setup an optimizer\n",
    "optimizer = torch.optim.SGD(params = model_0.parameters(),lr=0.01)\n"
   ]
  },
  {
   "attachments": {},
   "cell_type": "markdown",
   "id": "5eb0bd85",
   "metadata": {},
   "source": [
    "###### building a training loop (and testing loop) in python\n",
    "\n",
    "A couple of things we need in a training loop:\n",
    "    \n",
    "1. Loop Through the data and do....\n",
    "2. Forwrd pass(this involves data moving through our model's `Forward()`)\n",
    "3. Calculate the loss(compare forward pass predictions to ground truth labesl)\n",
    "4. Loss Backward - move backwards through the network to caluclate the gradients of each of the parametes of our model with respect to the loss\n",
    "5. Optimizer step - use the optimizer to adjust our models's parameters to try and improve the loss (**gradient descent**)"
   ]
  },
  {
   "cell_type": "code",
   "execution_count": 35,
   "id": "aa107a1e",
   "metadata": {},
   "outputs": [
    {
     "name": "stdout",
     "output_type": "stream",
     "text": [
      "Epoch: 0 | Mean Train Loss :0.00849987007677555 | Mean Test loss : 0.0002990245702676475\n",
      "\n",
      "\n",
      "OrderedDict([('weights', tensor([0.6941])), ('bias', tensor([0.4053]))])\n",
      "Epoch: 10 | Mean Train Loss :0.00849987007677555 | Mean Test loss : 0.0002990245702676475\n",
      "\n",
      "\n",
      "OrderedDict([('weights', tensor([0.6941])), ('bias', tensor([0.4053]))])\n"
     ]
    }
   ],
   "source": [
    "torch.manual_seed(42)\n",
    "#An epoch is one loop through the data....\n",
    "epochs = 20  #hyperparameters beacuse we've set it\n",
    "\n",
    "#Tracking different values \n",
    "train_loss_values = []\n",
    "test_loss_values = []\n",
    "epoch_count = []\n",
    "\n",
    "\n",
    "### Training\n",
    "for epoch in range(epochs):\n",
    "    #set the model to training mode\n",
    "    model_0.train() # train mode in PyTorch sets all parameters that requires gradients\n",
    "    \n",
    "    #1. Forward pass \n",
    "    y_pred = model_0(x_train)\n",
    "    \n",
    "    \n",
    "    #2. Calculate the loss \n",
    "    loss = loss_fn(y_pred,y_train)\n",
    "#     print(f\"Loss each ecoch :- {loss}\")\n",
    "    \n",
    "    #3. optimizer zero grad\n",
    "    optimizer.zero_grad()\n",
    "    \n",
    "    #4. Perform backpropagation on the loss with respect to the parameters of the model\n",
    "    loss.backward()\n",
    "    \n",
    "    #5 step the optimizer(perform gradient descent)\n",
    "    optimizer.step() #to update the models parameters with respect to the gradients calculated by loss.backward()\n",
    "    \n",
    "    #-----------------------Testing-----------------------------------------------\n",
    "    model_0.eval() #turns off gradient different settings in the model not needed for evaluation\n",
    "    \n",
    "    with torch.inference_mode(): #turns off gradient tracking and a couple more things behind \n",
    "    #with torch.no_grad(): #you may also see torch.no_grad() in older pytorch code \n",
    "      #2. Do the forward pass\n",
    "        test_pred = model_0(x_test)\n",
    "        \n",
    "      #3. Calculate the loss \n",
    "        test_loss = loss_fn(test_pred,y_test)\n",
    "        \n",
    "    #pring out whats happenin \n",
    "    if epoch % 10 == 0:\n",
    "        epoch_count.append(epoch)\n",
    "        train_loss_values.append(loss.detach().numpy())\n",
    "        test_loss_values.append(test_loss.detach().numpy())\n",
    "        print(f\"Epoch: {epoch} | Mean Train Loss :{loss} | Mean Test loss : {test_loss}\\n\\n\")\n",
    "\n",
    "        #print out model state_dict()\n",
    "        print(model_0.state_dict())"
   ]
  },
  {
   "cell_type": "code",
   "execution_count": 36,
   "id": "2ac1f18c",
   "metadata": {},
   "outputs": [
    {
     "data": {
      "image/png": "[encoded data removed]",
      "text/plain": [
       "<Figure size 640x480 with 1 Axes>"
      ]
     },
     "metadata": {},
     "output_type": "display_data"
    }
   ],
   "source": [
    "\n",
    "\n",
    "# Plot the loss curves\n",
    "plt.plot(epoch_count, train_loss_values, label=\"Train loss\")\n",
    "plt.plot(epoch_count, test_loss_values, label=\"Test loss\")\n",
    "plt.title(\"Training and test loss curves\")\n",
    "plt.ylabel(\"Loss\")\n",
    "plt.xlabel(\"Epochs\")\n",
    "plt.legend();\n"
   ]
  },
  {
   "cell_type": "code",
   "execution_count": 37,
   "id": "2e8447cf",
   "metadata": {},
   "outputs": [],
   "source": [
    "with torch.inference_mode():\n",
    "    y_preds_new = model_0(x_test)"
   ]
  },
  {
   "cell_type": "code",
   "execution_count": 38,
   "id": "c3ae64a2",
   "metadata": {},
   "outputs": [
    {
     "data": {
      "text/plain": [
       "(0.7, 0.4)"
      ]
     },
     "execution_count": 38,
     "metadata": {},
     "output_type": "execute_result"
    }
   ],
   "source": [
    "weight,bias"
   ]
  },
  {
   "cell_type": "code",
   "execution_count": 39,
   "id": "ce38c4f6",
   "metadata": {},
   "outputs": [
    {
     "data": {
      "image/png": "[encoded data removed]",
      "text/plain": [
       "<Figure size 1000x700 with 1 Axes>"
      ]
     },
     "metadata": {},
     "output_type": "display_data"
    }
   ],
   "source": [
    "plot_predictions(predictions=y_preds_new)"
   ]
  },
  {
   "attachments": {},
   "cell_type": "markdown",
   "id": "7e2e382d",
   "metadata": {},
   "source": [
    " ## 4) Saving and loading a PyTorch model\n",
    "\n",
    "torch.save  -> \tSaves a serialzed object to disk using Python's pickle utility. Models, tensors and various other Python objects like dictionaries can be saved using torch.save.\n",
    "torch.load -> \tUses pickle's unpickling features to deserialize and load pickled Python object files (like models, tensors or dictionaries) into memory. You can also set which device to load the object to (CPU, GPU etc).\n",
    "torch.nn.Module.load_state_dict -> \tLoads a model's parameter dictionary (model.state_dict()) using a saved state_dict() object."
   ]
  },
  {
   "attachments": {},
   "cell_type": "markdown",
   "id": "12547e1d",
   "metadata": {},
   "source": [
    "\n",
    "Saving a PyTorch model's state_dict()\n",
    "\n",
    "The recommended way for saving and loading a model for inference (making predictions) is by saving and loading a model's state_dict().\n",
    "\n",
    "Let's see how we can do that in a few steps:\n",
    "\n",
    "   1) We'll create a directory for saving models to called models using Python's pathlib module.\n",
    "   2) We'll create a file path to save the model to.\n",
    "   3) We'll call torch.save(obj, f) where obj is the target model's state_dict() and f is the filename of where to save the model.\n"
   ]
  },
  {
   "cell_type": "code",
   "execution_count": 41,
   "id": "dc3f8ee2",
   "metadata": {},
   "outputs": [
    {
     "name": "stdout",
     "output_type": "stream",
     "text": [
      "Saving model to: models\\01_pytorch_workflow_model_1.pth\n"
     ]
    }
   ],
   "source": [
    "from pathlib import Path\n",
    "\n",
    "# 1. Create models directory \n",
    "MODEL_PATH = Path(\"models\")\n",
    "MODEL_PATH.mkdir(parents=True, exist_ok=True)\n",
    "\n",
    "# 2. Create model save path \n",
    "MODEL_NAME = \"01_pytorch_workflow_model_1.pth\"\n",
    "MODEL_SAVE_PATH = MODEL_PATH / MODEL_NAME\n",
    "\n",
    "# 3. Save the model state dict \n",
    "print(f\"Saving model to: {MODEL_SAVE_PATH}\")\n",
    "torch.save(obj=model_0.state_dict(), # only saving the state_dict() only saves the models learned parameters\n",
    "           f=MODEL_SAVE_PATH)"
   ]
  },
  {
   "cell_type": "code",
   "execution_count": null,
   "id": "3f2c2363",
   "metadata": {},
   "outputs": [],
   "source": []
  },
  {
   "cell_type": "code",
   "execution_count": null,
   "id": "bc8dc790",
   "metadata": {},
   "outputs": [],
   "source": []
  }
 ],
 "metadata": {
  "kernelspec": {
   "display_name": "Python 3 (ipykernel)",
   "language": "python",
   "name": "python3"
  },
  "language_info": {
   "codemirror_mode": {
    "name": "ipython",
    "version": 3
   },
   "file_extension": ".py",
   "mimetype": "text/x-python",
   "name": "python",
   "nbconvert_exporter": "python",
   "pygments_lexer": "ipython3",
   "version": "3.10.9"
  }
 },
 "nbformat": 4,
 "nbformat_minor": 5
}
